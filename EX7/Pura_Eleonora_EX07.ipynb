{
 "cells": [
  {
   "cell_type": "markdown",
   "id": "6d28a691",
   "metadata": {},
   "source": [
    "Eleonora Pura, 17-732-678"
   ]
  },
  {
   "cell_type": "code",
   "execution_count": 143,
   "id": "278951e5",
   "metadata": {},
   "outputs": [],
   "source": [
    "import networkx as nx\n",
    "import numpy as np\n",
    "import matplotlib as mpl\n",
    "import matplotlib.pyplot as plt\n",
    "import math\n",
    "import random\n",
    "import warnings\n",
    "warnings.filterwarnings('ignore')"
   ]
  },
  {
   "cell_type": "markdown",
   "id": "9a5ce438",
   "metadata": {},
   "source": [
    "<h1>A07.1 - The Marčenko-Pastur law</h1>"
   ]
  },
  {
   "cell_type": "markdown",
   "id": "c78e4390",
   "metadata": {},
   "source": [
    "Task: For the 97 most capitalized stocks in the NY Stock Exchange, filter the correlation matrix of returns at the 1 hour and 1 minute timescales using Marčenko-Pastur law\n",
    "\n",
    "For each of the provided correlation matrices (for 1 hour and 1\n",
    "minute returns):\n",
    "+ compute the eigenvalues and eigenvectors\n",
    "+ plot the histogram of eigenvalues and superimpose the Marčenko-Pastur law with parameter\n",
    "    \n",
    "    - for hourly returns, 𝑄 = 3.6289\n",
    "    - for minute returns, 𝑄 = 200.8969\n",
    "    \n",
    "+ compute the denoised correlations (see lecture)\n"
   ]
  },
  {
   "cell_type": "code",
   "execution_count": 381,
   "id": "358b99ef",
   "metadata": {},
   "outputs": [],
   "source": [
    "def find_eigval(cormat):\n",
    "    return np.linalg.eig(cormat)\n",
    "    \n",
    "def handle_neg(a):\n",
    "        return np.maximum(a, np.zeros_like(a))\n",
    "    \n",
    "    \n",
    "def compute_marcenko(dataset, Q, eigval):\n",
    "    lam = (1 + (1 / Q))\n",
    "    lambda_max = (1 + (1 / Q)) + 2 * np.sqrt(1 / Q)\n",
    "    lambda_min = (1 + (1 / Q)) - 2 * np.sqrt(1 / Q)\n",
    "\n",
    "    return Q / (2 * np.pi) * np.sqrt(handle_neg((lambda_max - eigval) * (eigval - lambda_min))) / eigval\n",
    "    \n",
    "    \n",
    "def plot_histogram(eigval, marcenko, dataset, Q):\n",
    "    lambda_max = (1 + (1 / Q)) + 2 * np.sqrt(1 / Q)\n",
    "    lambda_min = (1 + (1 / Q)) - 2 * np.sqrt(1 / Q)\n",
    "    \n",
    "    n, bins, patches = plt.hist(eigval, label='Eigen values', bins=\"auto\", density=True)\n",
    "    \n",
    "    marcenko_linespace = np.linspace(lambda_min,lambda_max,97)\n",
    "    \n",
    "    plt.plot(marcenko_linespace, marcenko, label='Marčenko')\n",
    "    plt.title('Eigen values and Marčenko distributions for {}'.format(dataset))\n",
    "    plt.xlabel('p(lamda)')\n",
    "    plt.ylabel('lambda')\n",
    "    plt.legend()\n",
    "    plt.grid()\n",
    "    plt.show()\n",
    "    \n",
    "    \n",
    "def normalize_array(eigval):\n",
    "    norm = (len(eigval) - sum(eigval)) / len(eigval)\n",
    "    \n",
    "    return [i + norm for i in eigval]\n",
    "        \n",
    "\n",
    "\n",
    "def return_denoised_correlation(eigvec, eigval, Q):\n",
    "    lambda_min = (1 + (1 / Q)) - 2 * np.sqrt(1 / Q)\n",
    "    lambda_max = (1 + (1 / Q)) + 2 * np.sqrt(1 / Q)\n",
    " \n",
    "    rnd_cost = random.uniform(lambda_min, lambda_max)\n",
    "    \n",
    "    eigval_new = [rnd_cost if eigval[i] < lambda_max else eigval[i] for i in range(len(eigval))]\n",
    "    \n",
    "    normal_eigval = normalize_array(eigval_new)\n",
    "        \n",
    "    denoised =  np.dot(eigvec, np.dot(np.diag(normal_eigval), np.linalg.inv(eigvec)))\n",
    "    \n",
    "    np.fill_diagonal(denoised, 1)\n",
    "    \n",
    "    \n",
    "    return denoised\n",
    "\n",
    "\n",
    "    \n",
    "def show_solution(dataset, Q):\n",
    "    cormat = np.load(dataset)\n",
    "    eigval, eigvec = find_eigval(cormat)\n",
    "    marcenko = compute_marcenko(dataset, Q, eigval)\n",
    "    \n",
    "    print(marcenko)\n",
    "    plot_histogram(eigval, marcenko, dataset, Q)\n",
    "    \n",
    "    print(\"Denoised correlation matrix for {}\".format(dataset))\n",
    "    denoised_corr = return_denoised_correlation(eigvec, eigval, Q)\n"
   ]
  },
  {
   "cell_type": "code",
   "execution_count": 382,
   "id": "d0db644b",
   "metadata": {},
   "outputs": [
    {
     "name": "stdout",
     "output_type": "stream",
     "text": [
      "[0.         0.         0.         0.         0.         0.\n",
      " 0.         0.         0.18535653 0.25640547 0.2982454  0.33344249\n",
      " 0.37787785 0.39033531 0.43323063 0.47339067 0.48029473 0.50796808\n",
      " 0.53290176 0.54858478 0.57015251 0.58941219 0.60303844 0.62212726\n",
      " 0.64335379 0.65202459 0.67937821 0.68955188 0.70633927 0.72154481\n",
      " 0.73729598 0.75798867 0.77076043 0.78666379 0.79184109 0.80843979\n",
      " 0.81112203 0.81815046 0.82450845 0.83094717 0.83429396 0.83589754\n",
      " 0.83697246 0.83493492 0.83142138 0.82950119 0.82414477 0.81413462\n",
      " 0.79741799 0.78317579 0.75284192 0.69335893 0.60927644 0.57064486\n",
      " 0.55626818 0.50000466 0.34598564 0.12258389 0.         0.\n",
      " 0.         0.         0.         0.         0.         0.\n",
      " 0.         0.         0.         0.         0.         0.\n",
      " 0.         0.         0.         0.         0.         0.\n",
      " 0.         0.         0.         0.         0.         0.\n",
      " 0.         0.         0.         0.         0.         0.\n",
      " 0.         0.         0.         0.         0.         0.\n",
      " 0.        ]\n"
     ]
    },
    {
     "data": {
      "image/png": "[encoded data removed]",
      "text/plain": [
       "<Figure size 432x288 with 1 Axes>"
      ]
     },
     "metadata": {
      "needs_background": "light"
     },
     "output_type": "display_data"
    },
    {
     "name": "stdout",
     "output_type": "stream",
     "text": [
      "Denoised correlation matrix for Data/cormat_1h.npy\n",
      "[0.         0.         0.         0.         0.         0.\n",
      " 0.         0.         0.         0.         0.         0.\n",
      " 1.57375447 2.29242011 3.10166234 4.09597392 4.39073949 0.\n",
      " 4.53059855 0.         4.39713899 4.36961528 0.         4.09267049\n",
      " 3.55154655 3.17906261 0.         0.         1.6561935  0.\n",
      " 0.         0.         0.         0.         0.         0.\n",
      " 0.         0.         0.         0.         0.         0.\n",
      " 0.         0.         0.         0.         0.         0.\n",
      " 0.         0.         0.         0.         0.         0.\n",
      " 0.         0.         0.         0.         0.         0.\n",
      " 0.         0.         0.         0.         0.         0.\n",
      " 0.         0.         0.         0.         0.         0.\n",
      " 0.         0.         0.         0.         0.         0.\n",
      " 0.         0.         0.         0.         0.         0.\n",
      " 0.         0.         0.         0.         0.         0.\n",
      " 0.         0.         0.         0.         0.         0.\n",
      " 0.        ]\n"
     ]
    },
    {
     "data": {
      "image/png": "[encoded data removed]",
      "text/plain": [
       "<Figure size 432x288 with 1 Axes>"
      ]
     },
     "metadata": {
      "needs_background": "light"
     },
     "output_type": "display_data"
    },
    {
     "name": "stdout",
     "output_type": "stream",
     "text": [
      "Denoised correlation matrix for Data/cormat_1m.npy\n"
     ]
    }
   ],
   "source": [
    "dataset_1h = 'Data/cormat_1h.npy'\n",
    "dataset_1m = 'Data/cormat_1m.npy'\n",
    "\n",
    "show_solution(dataset_1h, 3.6289)\n",
    "show_solution(dataset_1m, 200.8969)\n"
   ]
  },
  {
   "cell_type": "markdown",
   "id": "5de05c3c",
   "metadata": {},
   "source": [
    "<h1>A07.2 - Correlation MSTs</h1>"
   ]
  },
  {
   "cell_type": "markdown",
   "id": "2ab698f3",
   "metadata": {},
   "source": [
    "Task: Build MSTs from denoised correlations and analyze them\n",
    "\n",
    "+ make a scatterplot of the 1 hour vs 1 minute denoised correlations (1 data point per pair of stocks)"
   ]
  },
  {
   "cell_type": "code",
   "execution_count": 383,
   "id": "202646d8",
   "metadata": {},
   "outputs": [],
   "source": [
    "def scatter_plot(x, y, title, xaxis, yaxis):\n",
    "    plt.title(title)\n",
    "    plt.scatter(x, y, c=\"g\")\n",
    "    plt.xlabel(xaxis)\n",
    "    plt.ylabel(yaxis)\n",
    "    plt.show()"
   ]
  },
  {
   "cell_type": "code",
   "execution_count": 384,
   "id": "bb307c48",
   "metadata": {},
   "outputs": [
    {
     "data": {
      "image/png": "[encoded data removed]",
      "text/plain": [
       "<Figure size 432x288 with 1 Axes>"
      ]
     },
     "metadata": {
      "needs_background": "light"
     },
     "output_type": "display_data"
    }
   ],
   "source": [
    "cormat_1h = np.load(dataset_1h)\n",
    "eigval_1h, eigvec_1h = find_eigval(cormat_1h)\n",
    "\n",
    "denoised_corr_1h = return_denoised_correlation(eigvec_1h, eigval_1h, 3.6289)\n",
    "\n",
    "\n",
    "cormat_1m = np.load(dataset_1m)\n",
    "eigval_1m, eigvec_1m = find_eigval(cormat_1m)\n",
    "\n",
    "denoised_corr_1m = return_denoised_correlation(eigvec_1m, eigval_1m, 200.8969)\n",
    "\n",
    "\n",
    "scatter_plot(denoised_corr_1h, denoised_corr_1m, \"Denoised correlation 1h vs. 1m dataset\", \"1 hour\", \"1 minute\")"
   ]
  },
  {
   "cell_type": "markdown",
   "id": "6e70e98f",
   "metadata": {},
   "source": [
    "+ from the denoised correlation matrices, build the Minimum Spanning Tree (see lecture)\n",
    "+ assign the correct ticker (’AAPL’, ’AMZN’, …) as an attribute to the nodes and calculate the degrees\n",
    "+ make a scatterplot of the 1 hour vs 1 minute MST degrees of stocks (1 data point per stock)"
   ]
  },
  {
   "cell_type": "code",
   "execution_count": 390,
   "id": "49611c2b",
   "metadata": {},
   "outputs": [],
   "source": [
    "def get_mst(denoised_array, stocknames):\n",
    "    dij = np.sqrt(2*(1-denoised_array))\n",
    "    g = nx.from_numpy_array(dij)\n",
    "    mst_g = nx.minimum_spanning_tree(g)\n",
    "    nx.set_node_attributes(mst_g, stocknames, 'ticker')\n",
    "    \n",
    "    return mst_g\n",
    "\n",
    "\n",
    "def plot_mst_degrees(denoised_array_h, denoised_array_m, stocknames):\n",
    "    mst_g_h = get_mst(denoised_corr_1h, stocknames)\n",
    "    mst_g_h_degrees = dict(mst_g_h.degree()).values()\n",
    "    \n",
    "    mst_g_m = get_mst(denoised_corr_1m, stocknames)\n",
    "    mst_g_m_degrees = dict(mst_g_m.degree()).values()\n",
    "    \n",
    "    plt.title(\"1 hour vs 1 minute MST degrees of stocks\")\n",
    "    \n",
    "    plt.scatter(mst_g_h_degrees,mst_g_m_degrees)\n",
    "    plt.xlabel(\"1 hour\")\n",
    "    plt.ylabel(\"1 minute\")\n",
    "    plt.show()\n",
    "    "
   ]
  },
  {
   "cell_type": "code",
   "execution_count": 391,
   "id": "f8107f92",
   "metadata": {},
   "outputs": [
    {
     "name": "stdout",
     "output_type": "stream",
     "text": [
      "['AAPL', 'ABBV', 'ABT', 'ACN', 'AIG', 'ALL', 'AMGN', 'AMZN', 'APA', 'APC', 'AXP', 'BA', 'BAC', 'BAX', 'BIIB', 'BK', 'BMY', 'C', 'CAT', 'CL', 'CMCSA', 'COF', 'COP', 'COST', 'CSCO', 'CVS', 'CVX', 'DD', 'DIS', 'DOW', 'DVN', 'EBAY', 'EMC', 'EMR', 'EXC', 'F', 'FB', 'FCX', 'FDX', 'FOXA', 'GD', 'GE', 'GILD', 'GM', 'GOOG', 'GS', 'HAL', 'HD', 'HON', 'HPQ', 'IBM', 'INTC', 'JNJ', 'JPM', 'KO', 'LLY', 'LMT', 'LOW', 'MA', 'MCD', 'MDLZ', 'MDT', 'MET', 'MMM', 'MO', 'MON', 'MRK', 'MS', 'MSFT', 'NKE', 'NOV', 'NSC', 'ORCL', 'OXY', 'PEP', 'PFE', 'PG', 'PM', 'QCOM', 'RTN', 'SBUX', 'SLB', 'SO', 'SPG', 'T', 'TGT', 'TWX', 'TXN', 'UNH', 'UNP', 'UPS', 'USB', 'UTX', 'V', 'VZ', 'WMT', 'XOM']\n"
     ]
    },
    {
     "data": {
      "image/png": "[encoded data removed]",
      "text/plain": [
       "<Figure size 432x288 with 1 Axes>"
      ]
     },
     "metadata": {
      "needs_background": "light"
     },
     "output_type": "display_data"
    }
   ],
   "source": [
    "with open('Data/stocknames.txt') as sn:\n",
    "    stocknames = [i.split('\\n')[0] for i in sn.readlines() if i]\n",
    "    \n",
    "print(stocknames)\n",
    "\n",
    "plot_mst_degrees(denoised_corr_1h, denoised_corr_1m, stocknames)"
   ]
  },
  {
   "cell_type": "markdown",
   "id": "b1314b34",
   "metadata": {},
   "source": [
    "<h1>A07.3 - Conclusions</h1>"
   ]
  },
  {
   "cell_type": "markdown",
   "id": "49483e8a",
   "metadata": {},
   "source": [
    "Task: finish the analysis by drawing conclusions\n",
    "\n",
    "Answer the following questions (for both timescales):\n",
    "1. Is there a ‘market mode’?"
   ]
  },
  {
   "cell_type": "code",
   "execution_count": 392,
   "id": "00b73520",
   "metadata": {},
   "outputs": [
    {
     "name": "stdout",
     "output_type": "stream",
     "text": [
      "Market mode 1h timescale: 31.02783573849151\n",
      "Marketmode 1m timescale: 30.159679989499114\n"
     ]
    }
   ],
   "source": [
    "print(\"Market mode 1h timescale: {}\\nMarketmode 1m timescale: {}\".format(max(eigval_1h), max(eigval_1m)))"
   ]
  },
  {
   "cell_type": "markdown",
   "id": "00055fc1",
   "metadata": {},
   "source": [
    "2. Which is the stock that has the strongest relation with the market?"
   ]
  },
  {
   "cell_type": "markdown",
   "id": "dee317d8",
   "metadata": {},
   "source": [
    "-"
   ]
  },
  {
   "cell_type": "markdown",
   "id": "2ecbc07f",
   "metadata": {},
   "source": [
    "3. Which are the 5 stocks with highest degree on the MST?"
   ]
  },
  {
   "cell_type": "code",
   "execution_count": 394,
   "id": "d819f5bf",
   "metadata": {},
   "outputs": [
    {
     "name": "stdout",
     "output_type": "stream",
     "text": [
      "The stocks with the highest degrees for the 1h timescale are:\n",
      "GOOG: 11\n",
      "HON: 9\n",
      "MMM: 9\n",
      "COP: 8\n",
      "MET: 7\n",
      "\n",
      "\n",
      "The stocks with the highest degrees for the 1m timescale are:\n",
      "HON: 55\n",
      "EMR: 9\n",
      "COP: 7\n",
      "MET: 6\n",
      "GD: 5\n"
     ]
    }
   ],
   "source": [
    "mst_1h = get_mst(denoised_corr_1h, stocknames).degree()\n",
    "\n",
    "max_degree = []\n",
    "\n",
    "highest_degrees_1h = sorted(mst_1h, key=lambda x: x[1], reverse=True)[:5]\n",
    "\n",
    "print(\"The stocks with the highest degrees for the 1h timescale are:\")\n",
    "for i in highest_degrees_1h:\n",
    "    stockname = stocknames[i[0]]\n",
    "    degree = i[1]\n",
    "    print(\"{}: {}\".format(stockname, degree))\n",
    "\n",
    "   \n",
    "\n",
    "print(\"\\n\")\n",
    "\n",
    "mst_1m = get_mst(denoised_corr_1m, stocknames).degree()\n",
    "\n",
    "max_degree = []\n",
    "\n",
    "highest_degrees_1m = sorted(mst_1m, key=lambda x: x[1], reverse=True)[:5]\n",
    "\n",
    "print(\"The stocks with the highest degrees for the 1m timescale are:\")\n",
    "for i in highest_degrees_1m:\n",
    "    stockname = stocknames[i[0]]\n",
    "    degree = i[1]\n",
    "    print(\"{}: {}\".format(stockname, degree))\n",
    "\n",
    "\n",
    "\n",
    "    \n",
    "\n"
   ]
  },
  {
   "cell_type": "markdown",
   "id": "d502650e",
   "metadata": {},
   "source": [
    "4. Is the degree distribution of MSTs qualitatively the same at 1 minute and 1 hour?"
   ]
  },
  {
   "cell_type": "code",
   "execution_count": 395,
   "id": "2003a749",
   "metadata": {},
   "outputs": [
    {
     "data": {
      "image/png": "[encoded data removed]",
      "text/plain": [
       "<Figure size 432x288 with 1 Axes>"
      ]
     },
     "metadata": {
      "needs_background": "light"
     },
     "output_type": "display_data"
    }
   ],
   "source": [
    "x_axis = np.arange(0,97,1)\n",
    "\n",
    "plt.plot(x_axis, dict(mst_1h).values(), label=\"1h timescale\", c='r')\n",
    "plt.plot(x_axis, dict(mst_1m).values(), label=\"1m timescale\", c='g')\n",
    "plt.xlabel(\"Stock\")\n",
    "plt.ylabel(\"Degree\")\n",
    "plt.legend()\n",
    "plt.show()"
   ]
  },
  {
   "cell_type": "markdown",
   "id": "66f3e940",
   "metadata": {},
   "source": [
    "Sometimes they have a similar distribution, but not always."
   ]
  },
  {
   "cell_type": "code",
   "execution_count": null,
   "id": "5c814ea5",
   "metadata": {},
   "outputs": [],
   "source": []
  }
 ],
 "metadata": {
  "kernelspec": {
   "display_name": "Python 3 (ipykernel)",
   "language": "python",
   "name": "python3"
  },
  "language_info": {
   "codemirror_mode": {
    "name": "ipython",
    "version": 3
   },
   "file_extension": ".py",
   "mimetype": "text/x-python",
   "name": "python",
   "nbconvert_exporter": "python",
   "pygments_lexer": "ipython3",
   "version": "3.8.8"
  }
 },
 "nbformat": 4,
 "nbformat_minor": 5
}
