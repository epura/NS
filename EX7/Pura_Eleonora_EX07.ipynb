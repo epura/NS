{
 "cells": [
  {
   "cell_type": "markdown",
   "id": "6d28a691",
   "metadata": {},
   "source": [
    "Eleonora Pura, 17-732-678"
   ]
  },
  {
   "cell_type": "code",
   "execution_count": 6,
   "id": "278951e5",
   "metadata": {},
   "outputs": [],
   "source": [
    "import networkx as nx\n",
    "import numpy as np\n",
    "import matplotlib as mpl\n",
    "import matplotlib.pyplot as plt\n",
    "import math\n",
    "import warnings\n",
    "warnings.filterwarnings('ignore')"
   ]
  },
  {
   "cell_type": "markdown",
   "id": "9a5ce438",
   "metadata": {},
   "source": [
    "<h1>A07.1 - The Marčenko-Pastur law</h1>"
   ]
  },
  {
   "cell_type": "markdown",
   "id": "c78e4390",
   "metadata": {},
   "source": [
    "Task: For the 97 most capitalized stocks in the NY Stock Exchange, filter the correlation matrix of returns at the 1 hour and 1 minute timescales using Marčenko-Pastur law\n",
    "\n",
    "For each of the provided correlation matrices (for 1 hour and 1\n",
    "minute returns):\n",
    "+ compute the eigenvalues and eigenvectors\n",
    "+ plot the histogram of eigenvalues and superimpose the Marčenko-Pastur law with parameter\n",
    "    \n",
    "    - for hourly returns, 𝑄 = 3.6289\n",
    "    - for minute returns, 𝑄 = 200.8969\n",
    "    \n",
    "+ compute the denoised correlations (see lecture)\n"
   ]
  },
  {
   "cell_type": "code",
   "execution_count": 17,
   "id": "e33c7998",
   "metadata": {},
   "outputs": [],
   "source": [
    "def find_eigval(cormat):\n",
    "    return np.linalg.eig(cormat)\n",
    "    \n",
    "\n",
    "def compute_marcenko(dataset, Q, eigval):\n",
    "    lam = (1 + (1 / Q))\n",
    "    lambda_max = (1 + (1 / Q)) + 2 * np.sqrt(1 / Q)\n",
    "    lambda_min = (1 + (1 / Q)) - 2 * np.sqrt(1 / Q)\n",
    "\n",
    "    return Q / (2 * np.pi) * np.sqrt((lambda_max - eigval) * (eigval - lambda_min)) / eigval\n",
    "    \n",
    "    \n",
    "def plot_histogram(eigval, marcenko, dataset):\n",
    "    n, bins, patches = plt.hist(eigval, label='Eigen values', bins=\"auto\", density=True)\n",
    "    plt.plot(marcenko, label='Marčenko')\n",
    "    plt.title('Eigen values and Marčenko distributions for {}'.format(dataset))\n",
    "    plt.legend()\n",
    "    plt.grid()\n",
    "    plt.show()\n",
    "    \n",
    "    \n",
    "def normalize_array(eigval, Q):\n",
    "    lambda_max = (1 + (1 / Q)) + 2 * np.sqrt(1 / Q)\n",
    "    eigval = np.where(eigval < lambda_max, 1, eigval)\n",
    "    norm = np.linalg.norm(eigval)\n",
    "    normal_eigval = eigval/norm\n",
    "    \n",
    "    return normal_eigval\n",
    "\n",
    "def return_denoised_correlation(eigvec, eigval, Q):\n",
    "    return np.dot(eigvec, np.diag((normalize_array(eigval, Q))), np.linalg.inv(eigvec))\n",
    "    \n",
    "    \n",
    "def show_solution(dataset, Q):\n",
    "    cormat = np.load(dataset)\n",
    "    eigval, eigvec = find_eigval(cormat)\n",
    "    marcenko = compute_marcenko(dataset, Q, eigval)\n",
    "    plot_histogram(eigval, marcenko, dataset)\n",
    "    \n",
    "    print(\"Denoised correlation matrix for {}\".format(dataset))\n",
    "    denoised_corr = return_denoised_correlation(eigvec, eigval, Q)\n",
    "    \n",
    "    print(denoised_corr)\n",
    "\n",
    "    \n",
    "\n"
   ]
  },
  {
   "cell_type": "code",
   "execution_count": 18,
   "id": "998f87c7",
   "metadata": {},
   "outputs": [
    {
     "data": {
      "image/png": "[encoded data removed]",
      "text/plain": [
       "<Figure size 432x288 with 1 Axes>"
      ]
     },
     "metadata": {
      "needs_background": "light"
     },
     "output_type": "display_data"
    },
    {
     "name": "stdout",
     "output_type": "stream",
     "text": [
      "Denoised correlation matrix for Data/cormat_1h.npy\n",
      "[[ 0.05892205  0.00935328 -0.02020725 ...  0.00074521 -0.00124675\n",
      "  -0.00073139]\n",
      " [ 0.08670804  0.00244483  0.00046987 ... -0.0009501  -0.00107191\n",
      "  -0.00033894]\n",
      " [ 0.09898211  0.0103031   0.00910925 ... -0.0004178   0.00208974\n",
      "  -0.00157406]\n",
      " ...\n",
      " [ 0.08694375 -0.01780076  0.01230074 ...  0.0057639   0.00219943\n",
      "  -0.0001697 ]\n",
      " [ 0.07108352 -0.01671667  0.03265826 ...  0.00025885  0.0008825\n",
      "   0.00413621]\n",
      " [ 0.10428179 -0.04424409 -0.00397105 ...  0.00713363 -0.00211341\n",
      "  -0.00216836]]\n"
     ]
    },
    {
     "data": {
      "image/png": "[encoded data removed]",
      "text/plain": [
       "<Figure size 432x288 with 1 Axes>"
      ]
     },
     "metadata": {
      "needs_background": "light"
     },
     "output_type": "display_data"
    },
    {
     "name": "stdout",
     "output_type": "stream",
     "text": [
      "Denoised correlation matrix for Data/cormat_1m.npy\n",
      "[[ 0.07923994  0.00307581  0.00482249 ... -0.00343095 -0.00013488\n",
      "   0.00032771]\n",
      " [ 0.06983397  0.00437058 -0.00358772 ...  0.00057539 -0.00583645\n",
      "  -0.00149735]\n",
      " [ 0.09320358  0.01139772  0.00375775 ... -0.00115016  0.00303113\n",
      "  -0.00480678]\n",
      " ...\n",
      " [ 0.08272279 -0.00343083 -0.01306549 ...  0.00698175  0.00348661\n",
      "  -0.00397351]\n",
      " [ 0.09333731  0.00210518 -0.01724588 ...  0.00315751  0.00372142\n",
      "   0.00551341]\n",
      " [ 0.11705568 -0.02066147  0.00148381 ... -0.00370589 -0.00157889\n",
      "  -0.00037628]]\n"
     ]
    }
   ],
   "source": [
    "dataset_1h = 'Data/cormat_1h.npy'\n",
    "dataset_1m = 'Data/cormat_1m.npy'\n",
    "\n",
    "show_solution(dataset_1h, 3.6289)\n",
    "show_solution(dataset_1m, 200.8969)\n"
   ]
  },
  {
   "cell_type": "markdown",
   "id": "5de05c3c",
   "metadata": {},
   "source": [
    "<h1>A07.2 - Correlation MSTs</h1>"
   ]
  },
  {
   "cell_type": "markdown",
   "id": "2ab698f3",
   "metadata": {},
   "source": [
    "Task: Build MSTs from denoised correlations and analyze them\n",
    "\n",
    "+ make a scatterplot of the 1 hour vs 1 minute denoised correlations (1 data point per pair of stocks)"
   ]
  },
  {
   "cell_type": "code",
   "execution_count": 25,
   "id": "b1bd02a0",
   "metadata": {},
   "outputs": [],
   "source": [
    "def scatter_plot(x, y, title, xaxis, yaxis):\n",
    "    plt.title(title)\n",
    "    plt.scatter(x, y, c=\"g\")\n",
    "    plt.xlabel(xaxis)\n",
    "    plt.ylabel(yaxis)\n",
    "    plt.show()"
   ]
  },
  {
   "cell_type": "code",
   "execution_count": 26,
   "id": "bb307c48",
   "metadata": {},
   "outputs": [
    {
     "data": {
      "image/png": "[encoded data removed]",
      "text/plain": [
       "<Figure size 432x288 with 1 Axes>"
      ]
     },
     "metadata": {
      "needs_background": "light"
     },
     "output_type": "display_data"
    }
   ],
   "source": [
    "cormat_1h = np.load(dataset_1h)\n",
    "eigval_1h, eigvec_1h = find_eigval(cormat_1h)\n",
    "\n",
    "denoised_corr_1h = return_denoised_correlation(eigvec_1h, eigval_1h, 3.6289)\n",
    "\n",
    "\n",
    "cormat_1m = np.load(dataset_1m)\n",
    "eigval_1m, eigvec_1m = find_eigval(cormat_1m)\n",
    "\n",
    "denoised_corr_1m = return_denoised_correlation(eigvec_1m, eigval_1m, 200.8969)\n",
    "\n",
    "\n",
    "scatter_plot(denoised_corr_1h, denoised_corr_1m, \"Denoised correlation 1h vs. 1m dataset\", \"1 hour\", \"1 minute\")"
   ]
  },
  {
   "cell_type": "markdown",
   "id": "56a2b56e",
   "metadata": {},
   "source": [
    "+ from the denoised correlation matrices, build the Minimum Spanning Tree (see lecture)\n",
    "+ assign the correct ticker (’AAPL’, ’AMZN’, …) as an attribute to the nodes and calculate the degrees\n",
    "+ make a scatterplot of the 1 hour vs 1 minute MST degrees of stocks (1 data point per stock)"
   ]
  },
  {
   "cell_type": "markdown",
   "id": "b1314b34",
   "metadata": {},
   "source": [
    "<h1>A07.3 - Conclusions</h1>"
   ]
  },
  {
   "cell_type": "markdown",
   "id": "49483e8a",
   "metadata": {},
   "source": [
    "Task: finish the analysis by drawing conclusions<\n",
    "\n",
    "Answer the following questions (for both timescales):\n",
    "1. Is there a ‘market mode’?\n",
    "2. Which is the stock that has the strongest relation with the market?\n",
    "3. Which are the 5 stocks with highest degree on the MST?\n",
    "4. Is the degree distribution of MSTs qualitatively the same at 1 minute and 1 hour?\n"
   ]
  },
  {
   "cell_type": "code",
   "execution_count": null,
   "id": "5f4d1a58",
   "metadata": {},
   "outputs": [],
   "source": []
  }
 ],
 "metadata": {
  "kernelspec": {
   "display_name": "Python 3 (ipykernel)",
   "language": "python",
   "name": "python3"
  },
  "language_info": {
   "codemirror_mode": {
    "name": "ipython",
    "version": 3
   },
   "file_extension": ".py",
   "mimetype": "text/x-python",
   "name": "python",
   "nbconvert_exporter": "python",
   "pygments_lexer": "ipython3",
   "version": "3.8.8"
  }
 },
 "nbformat": 4,
 "nbformat_minor": 5
}
