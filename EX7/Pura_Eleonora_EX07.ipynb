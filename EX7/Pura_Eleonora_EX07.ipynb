{
 "cells": [
  {
   "cell_type": "markdown",
   "id": "6d28a691",
   "metadata": {},
   "source": [
    "Eleonora Pura, 17-732-678"
   ]
  },
  {
   "cell_type": "code",
   "execution_count": 4,
   "id": "278951e5",
   "metadata": {},
   "outputs": [],
   "source": [
    "import networkx as nx\n",
    "import numpy as np\n",
    "import matplotlib as mpl\n",
    "import matplotlib.pyplot as plt\n",
    "import numpy as np\n",
    "import math\n",
    "import re\n",
    "import statistics\n",
    "import glob\n",
    "from NEMtropy import UndirectedGraph, DirectedGraph\n",
    "from NEMtropy.network_functions import build_adjacency_from_edgelist\n",
    "from NEMtropy import matrix_generator\n",
    "import warnings\n",
    "warnings.filterwarnings('ignore')"
   ]
  },
  {
   "cell_type": "markdown",
   "id": "9a5ce438",
   "metadata": {},
   "source": [
    "<h1>A07.1 - The Marčenko-Pastur law</h1>"
   ]
  },
  {
   "cell_type": "markdown",
   "id": "c78e4390",
   "metadata": {},
   "source": [
    "Task: For the 97 most capitalized stocks in the NY Stock Exchange, filter the correlation matrix of returns at the 1 hour and 1 minute timescales using Marčenko-Pastur law\n",
    "\n",
    "For each of the provided correlation matrices (for 1 hour and 1\n",
    "minute returns):\n",
    "+ compute the eigenvalues and eigenvectors\n",
    "+ plot the histogram of eigenvalues and superimpose the Marčenko-Pastur law with parameter\n",
    "    \n",
    "    - for hourly returns, 𝑄 = 3.6289\n",
    "    - for minute returns, 𝑄 = 200.8969\n",
    "    \n",
    "+ compute the denoised correlations (see lecture)\n"
   ]
  },
  {
   "cell_type": "code",
   "execution_count": 79,
   "id": "8bf99b5a",
   "metadata": {},
   "outputs": [
    {
     "data": {
      "image/png": "[encoded data removed]",
      "text/plain": [
       "<Figure size 432x720 with 2 Axes>"
      ]
     },
     "metadata": {
      "needs_background": "light"
     },
     "output_type": "display_data"
    }
   ],
   "source": [
    "Q_1h = 3.6289\n",
    "cormat_1h = np.load('Data/cormat_1h.npy')\n",
    "\n",
    "Q_1m = 200.8969\n",
    "cormat_1m = np.load('Data/cormat_1m.npy')\n",
    "\n",
    "eigval_1h, eigvec_1h = np.linalg.eig(cormat_1h)\n",
    "eigval_1m, eigvec_1m = np.linalg.eig(cormat_1m)\n",
    "\n",
    "# 1 hour\n",
    "lambda_max_1h = 1 + (1/Q_1h) + 2* math.sqrt(1/Q_1h)\n",
    "lambda_min_1h = 1 + (1/Q_1h) - 2* math.sqrt(1/Q_1h)\n",
    "\n",
    "distribution_eigval_1h = []\n",
    "for x in eigval_1h:\n",
    "    distribution_eigval_1h.append((Q_1h/2*math.pi) * (((lambda_max_1h - x)*(x - lambda_min_1h))**1/2)/x)\n",
    "\n",
    "fig, axs = plt.subplots(2, figsize=(6, 10))\n",
    "fig.suptitle('Marčenko-Pastur law correlation for 1h and 1m')\n",
    "fig.text(0.5, 0.04, 'u', ha='center')\n",
    "fig.text(0.04, 0.5, 'P(u)', va='center', rotation='vertical')\n",
    "    \n",
    "n, bins, patches = axs[0].hist(distribution_eigval_1h, eigval_1h.sort(), density=True, facecolor='g', alpha=0.75)\n",
    "axs[0].grid(True)  \n",
    "\n",
    "# 1 minute    \n",
    "lambda_max_1m = 1 + (1/Q_1m) + 2* math.sqrt(1/Q_1m)\n",
    "lambda_min_1m = 1 + (1/Q_1m) - 2* math.sqrt(1/Q_1m)\n",
    "\n",
    "distribution_eigval_1m = []\n",
    "for x in eigval_1m:\n",
    "    distribution_eigval_1m.append((Q_1m/2*math.pi) * (((lambda_max_1m - x)*(x - lambda_min_1m))**1/2)/x)\n",
    "    \n",
    "n, bins, patches = axs[1].hist(distribution_eigval_1m, eigval_1m.sort(), density=True, facecolor='b', alpha=0.75)\n",
    "\n",
    "axs[1].grid(True)\n",
    "\n",
    "# Denoised correlation ??"
   ]
  },
  {
   "cell_type": "markdown",
   "id": "5de05c3c",
   "metadata": {},
   "source": [
    "<h1>A07.2 - Correlation MSTs</h1>"
   ]
  },
  {
   "cell_type": "markdown",
   "id": "2ab698f3",
   "metadata": {},
   "source": [
    "Task: Build MSTs from denoised correlations and analyze them\n",
    "\n",
    "+ make a scatterplot of the 1 hour vs 1 minute denoised correlations (1 data point per pair of stocks)\n",
    "+ from the denoised correlation matrices, build the Minimum Spanning Tree (see lecture)\n",
    "+ assign the correct ticker (’AAPL’, ’AMZN’, …) as an attribute to the nodes and calculate the degrees\n",
    "+ make a scatterplot of the 1 hour vs 1 minute MST degrees of stocks (1 data point per stock)\n"
   ]
  },
  {
   "cell_type": "code",
   "execution_count": null,
   "id": "bb307c48",
   "metadata": {},
   "outputs": [],
   "source": []
  },
  {
   "cell_type": "markdown",
   "id": "b1314b34",
   "metadata": {},
   "source": [
    "<h1>A07.3 - Conclusions</h1>"
   ]
  },
  {
   "cell_type": "markdown",
   "id": "49483e8a",
   "metadata": {},
   "source": [
    "Task: finish the analysis by drawing conclusions<\n",
    "\n",
    "Answer the following questions (for both timescales):\n",
    "1. Is there a ‘market mode’?\n",
    "2. Which is the stock that has the strongest relation with the market?\n",
    "3. Which are the 5 stocks with highest degree on the MST?\n",
    "4. Is the degree distribution of MSTs qualitatively the same at 1 minute and 1 hour?\n"
   ]
  },
  {
   "cell_type": "code",
   "execution_count": null,
   "id": "5f4d1a58",
   "metadata": {},
   "outputs": [],
   "source": []
  }
 ],
 "metadata": {
  "kernelspec": {
   "display_name": "Python 3 (ipykernel)",
   "language": "python",
   "name": "python3"
  },
  "language_info": {
   "codemirror_mode": {
    "name": "ipython",
    "version": 3
   },
   "file_extension": ".py",
   "mimetype": "text/x-python",
   "name": "python",
   "nbconvert_exporter": "python",
   "pygments_lexer": "ipython3",
   "version": "3.8.8"
  }
 },
 "nbformat": 4,
 "nbformat_minor": 5
}
