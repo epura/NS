{
 "cells": [
  {
   "cell_type": "markdown",
   "id": "6eb8b3ba",
   "metadata": {},
   "source": [
    "Eleonora Pura - 17-732-678"
   ]
  },
  {
   "cell_type": "code",
   "execution_count": 4,
   "id": "27a72769",
   "metadata": {},
   "outputs": [],
   "source": [
    "import networkx as nx\n",
    "import matplotlib as mpl\n",
    "import matplotlib.pyplot as plt\n",
    "import numpy as np\n",
    "import glob\n",
    "import scipy.stats as sp\n",
    "import networkx.algorithms.community as nxacom\n",
    "import powerlaw"
   ]
  },
  {
   "cell_type": "markdown",
   "id": "386172c2",
   "metadata": {},
   "source": [
    "<h1>A05.1 Scale-Free Networks - Everyday networks are not Poisson: parameter estimation and model selection</h1>"
   ]
  },
  {
   "cell_type": "code",
   "execution_count": 5,
   "id": "8cd73d1c",
   "metadata": {},
   "outputs": [],
   "source": [
    "filenames = glob.glob('Data/*.gml')"
   ]
  },
  {
   "cell_type": "code",
   "execution_count": null,
   "id": "1ca7ae24",
   "metadata": {},
   "outputs": [
    {
     "name": "stdout",
     "output_type": "stream",
     "text": [
      "ciao\n"
     ]
    }
   ],
   "source": [
    "g = nx.read_gml(\"data/graph_escort.gml\")\n",
    "print(\"ciao\")\n",
    "\n",
    "nx.draw(g)"
   ]
  },
  {
   "cell_type": "markdown",
   "id": "76758548",
   "metadata": {},
   "source": [
    "Task: For all given networks compute the degree distribution 𝑃(𝑘) and the average degree ⟨𝑘⟩ and use the powerlaw package to fit 𝑃(𝑘)."
   ]
  },
  {
   "cell_type": "code",
   "execution_count": null,
   "id": "e1bb5d97",
   "metadata": {},
   "outputs": [],
   "source": [
    "degrees = [degree for degrees in dict(g.degree()).values()]\n",
    "avg_degrees = np.average(degrees)"
   ]
  },
  {
   "cell_type": "markdown",
   "id": "b47ed242",
   "metadata": {},
   "source": [
    "<p>1. Compute the power-law exponent 𝛾 of the degree distribution 𝑃(𝑘) ∼ 𝑘−𝛾 and the corresponding error</p>"
   ]
  },
  {
   "cell_type": "code",
   "execution_count": null,
   "id": "db21b617",
   "metadata": {},
   "outputs": [],
   "source": [
    "fit = powerlaw.Fit(degrees)"
   ]
  },
  {
   "cell_type": "markdown",
   "id": "3424b7fb",
   "metadata": {},
   "source": [
    "<p>2. Superimpose in the same plot of the power-law fit</p>\n",
    "<p>(a) the Poisson and</p>\n",
    "<p>(b) the exponential distribution with mean value equal to ⟨𝑘⟩.</p>\n",
    "\n",
    "<p>Which distribution is more likely to describe the data?<p>\n"
   ]
  },
  {
   "cell_type": "code",
   "execution_count": null,
   "id": "d9884349",
   "metadata": {},
   "outputs": [],
   "source": []
  }
 ],
 "metadata": {
  "kernelspec": {
   "display_name": "Python 3 (ipykernel)",
   "language": "python",
   "name": "python3"
  },
  "language_info": {
   "codemirror_mode": {
    "name": "ipython",
    "version": 3
   },
   "file_extension": ".py",
   "mimetype": "text/x-python",
   "name": "python",
   "nbconvert_exporter": "python",
   "pygments_lexer": "ipython3",
   "version": "3.8.8"
  }
 },
 "nbformat": 4,
 "nbformat_minor": 5
}
